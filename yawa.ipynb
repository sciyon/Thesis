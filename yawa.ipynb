{
 "cells": [
  {
   "cell_type": "code",
   "execution_count": 37,
   "metadata": {},
   "outputs": [],
   "source": [
    "import csv\n",
    "import os\n",
    "import pandas as pd\n",
    "from datetime import datetime, timedelta\n",
    "import chardet\n",
    "\n",
    "news_companies = {\n",
    "    \"Inquirer.net\": \"https://www.inquirer.net/\",\n",
    "    \"Manila Bulletin\": \"https://mb.com.ph/\",\n",
    "    \"The Asian Journal USA\": \"https://asianjournal.com/\",\n",
    "    \"The Manila Times\": \"https://www.manilatimes.net/\",\n",
    "    \"Business World\": \"https://www.bworldonline.com/\",\n",
    "    \"Eagle News\": \"https://www.eaglenews.ph/\",\n",
    "    \"Metro Cebu News\": \"https://metrocebu.news/\",\n",
    "    \"Tempo\": \"https://tempo.com.ph/\",\n",
    "    \"Abante Tonite\": \"https://tonite.abante.com.ph/\",\n",
    "    \"Philippine News Agency\": \"https://www.pna.gov.ph/\",\n",
    "    \"InterAksyon\": \"https://interaksyon.philstar.com/\",\n",
    "    \"Business Mirror\": \"https://businessmirror.com.ph/\",\n",
    "    \"The Summit Express\": \"https://www.thesummitexpress.com/\",\n",
    "    \"Our Daily News Online\": \"https://ourdailynewsonline.com/\",\n",
    "    \"Current PH\": \"https://currentph.com/\",\n",
    "    \"SunStar Philippines\": \"https://www.sunstar.com.ph/\",\n",
    "    \"Rappler\": \"https://www.rappler.com/\",\n",
    "    \"The Bohol Chronicle\": \"https://www.boholchronicle.com.ph/\",\n",
    "    \"Baguio Midland Courier\": \"https://www.baguiomidlandcourier.com.ph/\",\n",
    "    \"GMA News Online\": \"https://www.gmanetwork.com/news/\",\n",
    "    \"Cebu Daily News\": \"https://cebudailynews.inquirer.net/\",\n",
    "    \"ABS-CBN News\": \"https://news.abs-cbn.com/\",\n",
    "    \"Philstar.com\": \"https://www.philstar.com/\",\n",
    "    \"Manila Standard\": \"https://manilastandard.net/\",\n",
    "    \"Daily Tribune\": \"https://tribune.net.ph/\",\n",
    "    \"Davao Today\": \"https://davaotoday.com/\",\n",
    "    \"Sunday Punch\": \"https://punch.dagupan.com/\",\n",
    "    \"Visayan Daily Star\": \"https://visayandailystar.com/\",\n",
    "    \"PTV News\": \"https://ptvnews.ph/\",\n",
    "    \"Mindanao Times\": \"https://mindanaotimes.com.ph/\",\n",
    "    \"PhilNews.XYZ\": \"https://philnews.xyz/\",\n",
    "    \"Northern Dispatch\": \"https://nordis.net/\"\n",
    "}\n",
    "\n",
    "news_topics = [\"inflation\", \"economy\", \"business\", \"technology\", \"health\", \"environment\", \"welfare\", \"politics\"]"
   ]
  },
  {
   "cell_type": "code",
   "execution_count": 38,
   "metadata": {},
   "outputs": [],
   "source": [
    "# Creates an empty dataset with columns month, day and all the news sources\n",
    "def empty_dataset(topic):\n",
    "    # Define the header columns\n",
    "    header_columns = [\"Month\", \"Day\"] + list(news_companies.keys())\n",
    "\n",
    "    # Specify the folder and filename\n",
    "    folder_name = \"filtered_datasets\"\n",
    "    filename = os.path.join(folder_name, topic + \"_tally.csv\")\n",
    "\n",
    "    # Ensure the folder exists\n",
    "    os.makedirs(folder_name, exist_ok=True)\n",
    "\n",
    "    # Generate the date range from January 1 to April 30\n",
    "    start_date = datetime(2024, 1, 1)\n",
    "    end_date = datetime(2024, 4, 30)\n",
    "    date_range = [start_date + timedelta(days=x) for x in range((end_date - start_date).days + 1)]\n",
    "\n",
    "    # Prepare the rows with preset values\n",
    "    rows = []\n",
    "    for date in date_range:\n",
    "        month = date.strftime(\"%B\")  # Full month name\n",
    "        day = date.day\n",
    "        row = [month, day] + [0] * len(news_companies)\n",
    "        rows.append(row)\n",
    "\n",
    "    # Open the file in write mode\n",
    "    with open(filename, 'w', newline='') as csvfile:\n",
    "        # Create a csv writer object\n",
    "        csvwriter = csv.writer(csvfile)\n",
    "        \n",
    "        # Write the header row\n",
    "        csvwriter.writerow(header_columns)\n",
    "        \n",
    "        # Write the rows with preset values\n",
    "        csvwriter.writerows(rows)\n",
    "    print(f\"CSV file '{topic}_tally.csv' created in folder '{folder_name}'.\")\n",
    "\n",
    "# Creates a dataset per topic included in news_topics\n",
    "def create_empty_datasets():\n",
    "    for topic in news_topics:\n",
    "        print(f\"Creating dataset {topic}\")\n",
    "        empty_dataset(topic)\n"
   ]
  },
  {
   "cell_type": "code",
   "execution_count": 26,
   "metadata": {},
   "outputs": [],
   "source": [
    "# Function that increments the cell specified by the dataset, month, day and source\n",
    "def record(filename, month, day, header):\n",
    "    df = pd.read_csv(filename)\n",
    "    # Find the row that matches the month and day\n",
    "    row_index = df[(df['Month'] == month) & (df['Day'] == day)].index\n",
    "\n",
    "    if not row_index.empty:\n",
    "        # Increment the value in the specified column\n",
    "        df.at[row_index[0], header] += 1\n",
    "    else:\n",
    "        print(f\"No matching row found for {month} {day}\")\n",
    "\n",
    "    df.to_csv(filename, index=False)\n",
    "    \n",
    "    print(f\"'{filename}''{day}''{month}''{header}' recorded\")\n",
    "\n",
    "# Sample call\n",
    "# record(\"health_tally.csv\",\"January\", 1, \"Inquirer.net\")"
   ]
  },
  {
   "cell_type": "code",
   "execution_count": 35,
   "metadata": {},
   "outputs": [
    {
     "name": "stdout",
     "output_type": "stream",
     "text": [
      "False\n",
      "Inquirer.net\n"
     ]
    }
   ],
   "source": [
    "def is_url_from_list(url):\n",
    "    # Ensure url is a string to avoid TypeError\n",
    "    if not isinstance(url, str):\n",
    "        return False\n",
    "    for key, value in news_companies.items():\n",
    "        if value in url:\n",
    "            return key\n",
    "    return False\n",
    "\n",
    "# Sample calls\n",
    "url = \"https://www.inquiresr.net/some-article/d\"\n",
    "result = is_url_from_list(url)\n",
    "print(result)  # Output: Inquirer.net\n",
    "\n",
    "\n",
    "url = \"https://www.inquirer.net/some-article/d\"\n",
    "result = is_url_from_list(url)\n",
    "print(result)  # Output: Flase"
   ]
  },
  {
   "cell_type": "code",
   "execution_count": 40,
   "metadata": {},
   "outputs": [],
   "source": [
    "# Function to parse the date and extract month and day\n",
    "def parse_date(row):\n",
    "    if isinstance(row, str):  # Check if the input is a string\n",
    "        try:\n",
    "            date_str = row.split('\\t')[0]\n",
    "            date_time_str = date_str.strip()\n",
    "            date_obj = datetime.strptime(date_time_str, '%d-%b-%Y %I:%M%p')\n",
    "            return date_obj\n",
    "        except ValueError:\n",
    "            return None  # Return None for invalid dates\n",
    "    else:\n",
    "        return None  # Return None for non-string inputs\n",
    "\n",
    "# Function to filter each row in each dataset provided the filename of the raw dataset, and the filename of the topic dataset\n",
    "def raw_data_processing(filename, topicDataset):\n",
    "    print(f\"Filtering raw dataset: '{filename}'.\")\n",
    "    # Dictionary to map month numbers to month names\n",
    "    month_dict = {\n",
    "        1: \"January\", 2: \"February\", 3: \"March\", 4: \"April\",\n",
    "        5: \"May\", 6: \"June\", 7: \"July\", 8: \"August\",\n",
    "        9: \"September\", 10: \"October\", 11: \"November\", 12: \"December\"\n",
    "    }\n",
    "\n",
    "    input_filename = os.path.join(\"raw_datasets\", filename)\n",
    "    output_filename = os.path.join(\"filtered_datasets\", topicDataset)\n",
    "\n",
    "    # Detect the encoding of the CSV file\n",
    "    with open(input_filename, 'rb') as f:\n",
    "        result = chardet.detect(f.read())\n",
    "        encoding = result['encoding']\n",
    "\n",
    "    # Read the CSV file with error handling and correct delimiter\n",
    "    df = pd.read_csv(input_filename, encoding=encoding, sep='\\t', on_bad_lines='skip')\n",
    "\n",
    "    # Iterate through each row in the DataFrame\n",
    "    for index, row in df.iterrows():\n",
    "        date_str = row['Date']\n",
    "        url = row['URL']\n",
    "        \n",
    "        # Parse the date to get month and day\n",
    "        date_obj = parse_date(date_str)\n",
    "        if date_obj:\n",
    "            month = month_dict[date_obj.month]\n",
    "            day = date_obj.day\n",
    "            # Print or store the values as needed\n",
    "            header = is_url_from_list(url)\n",
    "            if header != False:\n",
    "                record(output_filename, month, day, header)\n",
    "        else:\n",
    "            print(f\"Invalid date format in row {index}\")\n",
    "    print(f\"Finished filtering raw dataset: '{filename}'.\")"
   ]
  },
  {
   "cell_type": "code",
   "execution_count": 39,
   "metadata": {},
   "outputs": [
    {
     "name": "stdout",
     "output_type": "stream",
     "text": [
      "Creating dataset inflation\n",
      "CSV file 'inflation_tally.csv' created in folder 'filtered_datasets'.\n",
      "Creating dataset economy\n",
      "CSV file 'economy_tally.csv' created in folder 'filtered_datasets'.\n",
      "Creating dataset business\n",
      "CSV file 'business_tally.csv' created in folder 'filtered_datasets'.\n",
      "Creating dataset technology\n",
      "CSV file 'technology_tally.csv' created in folder 'filtered_datasets'.\n",
      "Creating dataset health\n",
      "CSV file 'health_tally.csv' created in folder 'filtered_datasets'.\n",
      "Creating dataset environment\n",
      "CSV file 'environment_tally.csv' created in folder 'filtered_datasets'.\n",
      "Creating dataset welfare\n",
      "CSV file 'welfare_tally.csv' created in folder 'filtered_datasets'.\n",
      "Creating dataset politics\n",
      "CSV file 'politics_tally.csv' created in folder 'filtered_datasets'.\n"
     ]
    }
   ],
   "source": [
    "# Main code block for execution\n",
    "create_empty_datasets()"
   ]
  },
  {
   "cell_type": "code",
   "execution_count": 41,
   "metadata": {},
   "outputs": [
    {
     "name": "stdout",
     "output_type": "stream",
     "text": [
      "Filtering raw dataset: 'Inflation1.csv'.\n"
     ]
    },
    {
     "ename": "FileNotFoundError",
     "evalue": "[Errno 2] No such file or directory: 'Inflation1.csv'",
     "output_type": "error",
     "traceback": [
      "\u001b[1;31m---------------------------------------------------------------------------\u001b[0m",
      "\u001b[1;31mFileNotFoundError\u001b[0m                         Traceback (most recent call last)",
      "Cell \u001b[1;32mIn[41], line 1\u001b[0m\n\u001b[1;32m----> 1\u001b[0m raw_data_processing(\u001b[38;5;124m\"\u001b[39m\u001b[38;5;124mInflation1.csv\u001b[39m\u001b[38;5;124m\"\u001b[39m, \u001b[38;5;124m\"\u001b[39m\u001b[38;5;124mbusiness_tally.csv\u001b[39m\u001b[38;5;124m\"\u001b[39m)\n",
      "Cell \u001b[1;32mIn[40], line 33\u001b[0m, in \u001b[0;36mraw_data_processing\u001b[1;34m(filename, topicDataset)\u001b[0m\n\u001b[0;32m     30\u001b[0m     encoding \u001b[38;5;241m=\u001b[39m result[\u001b[38;5;124m'\u001b[39m\u001b[38;5;124mencoding\u001b[39m\u001b[38;5;124m'\u001b[39m]\n\u001b[0;32m     32\u001b[0m \u001b[38;5;66;03m# Read the CSV file with error handling and correct delimiter\u001b[39;00m\n\u001b[1;32m---> 33\u001b[0m df \u001b[38;5;241m=\u001b[39m pd\u001b[38;5;241m.\u001b[39mread_csv(filename, encoding\u001b[38;5;241m=\u001b[39mencoding, sep\u001b[38;5;241m=\u001b[39m\u001b[38;5;124m'\u001b[39m\u001b[38;5;130;01m\\t\u001b[39;00m\u001b[38;5;124m'\u001b[39m, on_bad_lines\u001b[38;5;241m=\u001b[39m\u001b[38;5;124m'\u001b[39m\u001b[38;5;124mskip\u001b[39m\u001b[38;5;124m'\u001b[39m)\n\u001b[0;32m     35\u001b[0m \u001b[38;5;66;03m# Iterate through each row in the DataFrame\u001b[39;00m\n\u001b[0;32m     36\u001b[0m \u001b[38;5;28;01mfor\u001b[39;00m index, row \u001b[38;5;129;01min\u001b[39;00m df\u001b[38;5;241m.\u001b[39miterrows():\n",
      "File \u001b[1;32mc:\\Users\\ACER\\anaconda3\\Lib\\site-packages\\pandas\\util\\_decorators.py:211\u001b[0m, in \u001b[0;36mdeprecate_kwarg.<locals>._deprecate_kwarg.<locals>.wrapper\u001b[1;34m(*args, **kwargs)\u001b[0m\n\u001b[0;32m    209\u001b[0m     \u001b[38;5;28;01melse\u001b[39;00m:\n\u001b[0;32m    210\u001b[0m         kwargs[new_arg_name] \u001b[38;5;241m=\u001b[39m new_arg_value\n\u001b[1;32m--> 211\u001b[0m \u001b[38;5;28;01mreturn\u001b[39;00m func(\u001b[38;5;241m*\u001b[39margs, \u001b[38;5;241m*\u001b[39m\u001b[38;5;241m*\u001b[39mkwargs)\n",
      "File \u001b[1;32mc:\\Users\\ACER\\anaconda3\\Lib\\site-packages\\pandas\\util\\_decorators.py:331\u001b[0m, in \u001b[0;36mdeprecate_nonkeyword_arguments.<locals>.decorate.<locals>.wrapper\u001b[1;34m(*args, **kwargs)\u001b[0m\n\u001b[0;32m    325\u001b[0m \u001b[38;5;28;01mif\u001b[39;00m \u001b[38;5;28mlen\u001b[39m(args) \u001b[38;5;241m>\u001b[39m num_allow_args:\n\u001b[0;32m    326\u001b[0m     warnings\u001b[38;5;241m.\u001b[39mwarn(\n\u001b[0;32m    327\u001b[0m         msg\u001b[38;5;241m.\u001b[39mformat(arguments\u001b[38;5;241m=\u001b[39m_format_argument_list(allow_args)),\n\u001b[0;32m    328\u001b[0m         \u001b[38;5;167;01mFutureWarning\u001b[39;00m,\n\u001b[0;32m    329\u001b[0m         stacklevel\u001b[38;5;241m=\u001b[39mfind_stack_level(),\n\u001b[0;32m    330\u001b[0m     )\n\u001b[1;32m--> 331\u001b[0m \u001b[38;5;28;01mreturn\u001b[39;00m func(\u001b[38;5;241m*\u001b[39margs, \u001b[38;5;241m*\u001b[39m\u001b[38;5;241m*\u001b[39mkwargs)\n",
      "File \u001b[1;32mc:\\Users\\ACER\\anaconda3\\Lib\\site-packages\\pandas\\io\\parsers\\readers.py:950\u001b[0m, in \u001b[0;36mread_csv\u001b[1;34m(filepath_or_buffer, sep, delimiter, header, names, index_col, usecols, squeeze, prefix, mangle_dupe_cols, dtype, engine, converters, true_values, false_values, skipinitialspace, skiprows, skipfooter, nrows, na_values, keep_default_na, na_filter, verbose, skip_blank_lines, parse_dates, infer_datetime_format, keep_date_col, date_parser, dayfirst, cache_dates, iterator, chunksize, compression, thousands, decimal, lineterminator, quotechar, quoting, doublequote, escapechar, comment, encoding, encoding_errors, dialect, error_bad_lines, warn_bad_lines, on_bad_lines, delim_whitespace, low_memory, memory_map, float_precision, storage_options)\u001b[0m\n\u001b[0;32m    935\u001b[0m kwds_defaults \u001b[38;5;241m=\u001b[39m _refine_defaults_read(\n\u001b[0;32m    936\u001b[0m     dialect,\n\u001b[0;32m    937\u001b[0m     delimiter,\n\u001b[1;32m   (...)\u001b[0m\n\u001b[0;32m    946\u001b[0m     defaults\u001b[38;5;241m=\u001b[39m{\u001b[38;5;124m\"\u001b[39m\u001b[38;5;124mdelimiter\u001b[39m\u001b[38;5;124m\"\u001b[39m: \u001b[38;5;124m\"\u001b[39m\u001b[38;5;124m,\u001b[39m\u001b[38;5;124m\"\u001b[39m},\n\u001b[0;32m    947\u001b[0m )\n\u001b[0;32m    948\u001b[0m kwds\u001b[38;5;241m.\u001b[39mupdate(kwds_defaults)\n\u001b[1;32m--> 950\u001b[0m \u001b[38;5;28;01mreturn\u001b[39;00m _read(filepath_or_buffer, kwds)\n",
      "File \u001b[1;32mc:\\Users\\ACER\\anaconda3\\Lib\\site-packages\\pandas\\io\\parsers\\readers.py:605\u001b[0m, in \u001b[0;36m_read\u001b[1;34m(filepath_or_buffer, kwds)\u001b[0m\n\u001b[0;32m    602\u001b[0m _validate_names(kwds\u001b[38;5;241m.\u001b[39mget(\u001b[38;5;124m\"\u001b[39m\u001b[38;5;124mnames\u001b[39m\u001b[38;5;124m\"\u001b[39m, \u001b[38;5;28;01mNone\u001b[39;00m))\n\u001b[0;32m    604\u001b[0m \u001b[38;5;66;03m# Create the parser.\u001b[39;00m\n\u001b[1;32m--> 605\u001b[0m parser \u001b[38;5;241m=\u001b[39m TextFileReader(filepath_or_buffer, \u001b[38;5;241m*\u001b[39m\u001b[38;5;241m*\u001b[39mkwds)\n\u001b[0;32m    607\u001b[0m \u001b[38;5;28;01mif\u001b[39;00m chunksize \u001b[38;5;129;01mor\u001b[39;00m iterator:\n\u001b[0;32m    608\u001b[0m     \u001b[38;5;28;01mreturn\u001b[39;00m parser\n",
      "File \u001b[1;32mc:\\Users\\ACER\\anaconda3\\Lib\\site-packages\\pandas\\io\\parsers\\readers.py:1442\u001b[0m, in \u001b[0;36mTextFileReader.__init__\u001b[1;34m(self, f, engine, **kwds)\u001b[0m\n\u001b[0;32m   1439\u001b[0m     \u001b[38;5;28mself\u001b[39m\u001b[38;5;241m.\u001b[39moptions[\u001b[38;5;124m\"\u001b[39m\u001b[38;5;124mhas_index_names\u001b[39m\u001b[38;5;124m\"\u001b[39m] \u001b[38;5;241m=\u001b[39m kwds[\u001b[38;5;124m\"\u001b[39m\u001b[38;5;124mhas_index_names\u001b[39m\u001b[38;5;124m\"\u001b[39m]\n\u001b[0;32m   1441\u001b[0m \u001b[38;5;28mself\u001b[39m\u001b[38;5;241m.\u001b[39mhandles: IOHandles \u001b[38;5;241m|\u001b[39m \u001b[38;5;28;01mNone\u001b[39;00m \u001b[38;5;241m=\u001b[39m \u001b[38;5;28;01mNone\u001b[39;00m\n\u001b[1;32m-> 1442\u001b[0m \u001b[38;5;28mself\u001b[39m\u001b[38;5;241m.\u001b[39m_engine \u001b[38;5;241m=\u001b[39m \u001b[38;5;28mself\u001b[39m\u001b[38;5;241m.\u001b[39m_make_engine(f, \u001b[38;5;28mself\u001b[39m\u001b[38;5;241m.\u001b[39mengine)\n",
      "File \u001b[1;32mc:\\Users\\ACER\\anaconda3\\Lib\\site-packages\\pandas\\io\\parsers\\readers.py:1735\u001b[0m, in \u001b[0;36mTextFileReader._make_engine\u001b[1;34m(self, f, engine)\u001b[0m\n\u001b[0;32m   1733\u001b[0m     \u001b[38;5;28;01mif\u001b[39;00m \u001b[38;5;124m\"\u001b[39m\u001b[38;5;124mb\u001b[39m\u001b[38;5;124m\"\u001b[39m \u001b[38;5;129;01mnot\u001b[39;00m \u001b[38;5;129;01min\u001b[39;00m mode:\n\u001b[0;32m   1734\u001b[0m         mode \u001b[38;5;241m+\u001b[39m\u001b[38;5;241m=\u001b[39m \u001b[38;5;124m\"\u001b[39m\u001b[38;5;124mb\u001b[39m\u001b[38;5;124m\"\u001b[39m\n\u001b[1;32m-> 1735\u001b[0m \u001b[38;5;28mself\u001b[39m\u001b[38;5;241m.\u001b[39mhandles \u001b[38;5;241m=\u001b[39m get_handle(\n\u001b[0;32m   1736\u001b[0m     f,\n\u001b[0;32m   1737\u001b[0m     mode,\n\u001b[0;32m   1738\u001b[0m     encoding\u001b[38;5;241m=\u001b[39m\u001b[38;5;28mself\u001b[39m\u001b[38;5;241m.\u001b[39moptions\u001b[38;5;241m.\u001b[39mget(\u001b[38;5;124m\"\u001b[39m\u001b[38;5;124mencoding\u001b[39m\u001b[38;5;124m\"\u001b[39m, \u001b[38;5;28;01mNone\u001b[39;00m),\n\u001b[0;32m   1739\u001b[0m     compression\u001b[38;5;241m=\u001b[39m\u001b[38;5;28mself\u001b[39m\u001b[38;5;241m.\u001b[39moptions\u001b[38;5;241m.\u001b[39mget(\u001b[38;5;124m\"\u001b[39m\u001b[38;5;124mcompression\u001b[39m\u001b[38;5;124m\"\u001b[39m, \u001b[38;5;28;01mNone\u001b[39;00m),\n\u001b[0;32m   1740\u001b[0m     memory_map\u001b[38;5;241m=\u001b[39m\u001b[38;5;28mself\u001b[39m\u001b[38;5;241m.\u001b[39moptions\u001b[38;5;241m.\u001b[39mget(\u001b[38;5;124m\"\u001b[39m\u001b[38;5;124mmemory_map\u001b[39m\u001b[38;5;124m\"\u001b[39m, \u001b[38;5;28;01mFalse\u001b[39;00m),\n\u001b[0;32m   1741\u001b[0m     is_text\u001b[38;5;241m=\u001b[39mis_text,\n\u001b[0;32m   1742\u001b[0m     errors\u001b[38;5;241m=\u001b[39m\u001b[38;5;28mself\u001b[39m\u001b[38;5;241m.\u001b[39moptions\u001b[38;5;241m.\u001b[39mget(\u001b[38;5;124m\"\u001b[39m\u001b[38;5;124mencoding_errors\u001b[39m\u001b[38;5;124m\"\u001b[39m, \u001b[38;5;124m\"\u001b[39m\u001b[38;5;124mstrict\u001b[39m\u001b[38;5;124m\"\u001b[39m),\n\u001b[0;32m   1743\u001b[0m     storage_options\u001b[38;5;241m=\u001b[39m\u001b[38;5;28mself\u001b[39m\u001b[38;5;241m.\u001b[39moptions\u001b[38;5;241m.\u001b[39mget(\u001b[38;5;124m\"\u001b[39m\u001b[38;5;124mstorage_options\u001b[39m\u001b[38;5;124m\"\u001b[39m, \u001b[38;5;28;01mNone\u001b[39;00m),\n\u001b[0;32m   1744\u001b[0m )\n\u001b[0;32m   1745\u001b[0m \u001b[38;5;28;01massert\u001b[39;00m \u001b[38;5;28mself\u001b[39m\u001b[38;5;241m.\u001b[39mhandles \u001b[38;5;129;01mis\u001b[39;00m \u001b[38;5;129;01mnot\u001b[39;00m \u001b[38;5;28;01mNone\u001b[39;00m\n\u001b[0;32m   1746\u001b[0m f \u001b[38;5;241m=\u001b[39m \u001b[38;5;28mself\u001b[39m\u001b[38;5;241m.\u001b[39mhandles\u001b[38;5;241m.\u001b[39mhandle\n",
      "File \u001b[1;32mc:\\Users\\ACER\\anaconda3\\Lib\\site-packages\\pandas\\io\\common.py:856\u001b[0m, in \u001b[0;36mget_handle\u001b[1;34m(path_or_buf, mode, encoding, compression, memory_map, is_text, errors, storage_options)\u001b[0m\n\u001b[0;32m    851\u001b[0m \u001b[38;5;28;01melif\u001b[39;00m \u001b[38;5;28misinstance\u001b[39m(handle, \u001b[38;5;28mstr\u001b[39m):\n\u001b[0;32m    852\u001b[0m     \u001b[38;5;66;03m# Check whether the filename is to be opened in binary mode.\u001b[39;00m\n\u001b[0;32m    853\u001b[0m     \u001b[38;5;66;03m# Binary mode does not support 'encoding' and 'newline'.\u001b[39;00m\n\u001b[0;32m    854\u001b[0m     \u001b[38;5;28;01mif\u001b[39;00m ioargs\u001b[38;5;241m.\u001b[39mencoding \u001b[38;5;129;01mand\u001b[39;00m \u001b[38;5;124m\"\u001b[39m\u001b[38;5;124mb\u001b[39m\u001b[38;5;124m\"\u001b[39m \u001b[38;5;129;01mnot\u001b[39;00m \u001b[38;5;129;01min\u001b[39;00m ioargs\u001b[38;5;241m.\u001b[39mmode:\n\u001b[0;32m    855\u001b[0m         \u001b[38;5;66;03m# Encoding\u001b[39;00m\n\u001b[1;32m--> 856\u001b[0m         handle \u001b[38;5;241m=\u001b[39m \u001b[38;5;28mopen\u001b[39m(\n\u001b[0;32m    857\u001b[0m             handle,\n\u001b[0;32m    858\u001b[0m             ioargs\u001b[38;5;241m.\u001b[39mmode,\n\u001b[0;32m    859\u001b[0m             encoding\u001b[38;5;241m=\u001b[39mioargs\u001b[38;5;241m.\u001b[39mencoding,\n\u001b[0;32m    860\u001b[0m             errors\u001b[38;5;241m=\u001b[39merrors,\n\u001b[0;32m    861\u001b[0m             newline\u001b[38;5;241m=\u001b[39m\u001b[38;5;124m\"\u001b[39m\u001b[38;5;124m\"\u001b[39m,\n\u001b[0;32m    862\u001b[0m         )\n\u001b[0;32m    863\u001b[0m     \u001b[38;5;28;01melse\u001b[39;00m:\n\u001b[0;32m    864\u001b[0m         \u001b[38;5;66;03m# Binary mode\u001b[39;00m\n\u001b[0;32m    865\u001b[0m         handle \u001b[38;5;241m=\u001b[39m \u001b[38;5;28mopen\u001b[39m(handle, ioargs\u001b[38;5;241m.\u001b[39mmode)\n",
      "\u001b[1;31mFileNotFoundError\u001b[0m: [Errno 2] No such file or directory: 'Inflation1.csv'"
     ]
    }
   ],
   "source": [
    "\n",
    "raw_data_processing(\"Inflation1.csv\", \"business_tally.csv\")"
   ]
  }
 ],
 "metadata": {
  "kernelspec": {
   "display_name": "base",
   "language": "python",
   "name": "python3"
  },
  "language_info": {
   "codemirror_mode": {
    "name": "ipython",
    "version": 3
   },
   "file_extension": ".py",
   "mimetype": "text/x-python",
   "name": "python",
   "nbconvert_exporter": "python",
   "pygments_lexer": "ipython3",
   "version": "3.11.4"
  }
 },
 "nbformat": 4,
 "nbformat_minor": 2
}
