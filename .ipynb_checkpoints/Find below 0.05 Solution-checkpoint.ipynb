{
 "cells": [
  {
   "cell_type": "code",
   "execution_count": null,
   "id": "d3204c86",
   "metadata": {},
   "outputs": [],
   "source": [
    "import pandas as pd\n",
    "\n",
    "# Load the Excel file into a pandas DataFrame\n",
    "df = pd.read_excel(\"Find_0.05_Values.xlsx\", index_col=0)  # Assuming the first column has row headers\n",
    "\n",
    "\n"
   ]
  },
  {
   "cell_type": "code",
   "execution_count": null,
   "id": "ca2209fe",
   "metadata": {},
   "outputs": [],
   "source": [
    "# Initialize a dictionary to store the result\n",
    "otherTopicsToInflation = {}\n",
    "\n",
    "# Loop through each row header (index) that ends with 'inflation_y'\n",
    "for row in df.index:\n",
    "    if row.endswith('inflation_y'):\n",
    "        otherTopicsToInflation[row] = {}  # Create an object for this row\n",
    "        \n",
    "        # Iterate through each column starting from 'Rappler_economy_x'\n",
    "        start_column = False\n",
    "        for col in df.columns:\n",
    "            if col == \"Rappler_economy_x\":  # Mark the starting column\n",
    "                start_column = True\n",
    "            \n",
    "            # Once we are in the range after \"Rappler_economy_x\"\n",
    "            if start_column and not col.endswith(\"inflation_x\"):  # Exclude \"inflation_x\" columns\n",
    "                value = df.at[row, col]\n",
    "                if value < 0.05:  # Check if the value is less than 0.05\n",
    "                    otherTopicsToInflation[row][col] = value  # Store the value\n",
    "\n",
    "# Print or manipulate the result as needed\n",
    "for row_key, col_values in otherTopicsToInflation.items():\n",
    "    print(f\"{row_key}:\")\n",
    "    for col_key, value in col_values.items():\n",
    "        print(f\"  {col_key}: {value}\")"
   ]
  },
  {
   "cell_type": "code",
   "execution_count": null,
   "id": "7247d53b",
   "metadata": {},
   "outputs": [],
   "source": [
    "import pandas as pd\n",
    "\n",
    "# Load the Excel file into a pandas DataFrame\n",
    "df = pd.read_excel(\"Find_0.05_Values.xlsx\", index_col=0)  # Assuming the first column has row headers\n",
    "\n",
    "# Initialize a dictionary to store the result\n",
    "inflationToOtherTopics = {}\n",
    "\n",
    "# Loop through each column that ends with 'inflation_x'\n",
    "for col in df.columns:\n",
    "    if col.endswith('inflation_x'):\n",
    "        result[col] = {}  # Create an object for this column\n",
    "        \n",
    "        # Iterate through each row header that does NOT end with 'inflation_y'\n",
    "        for row in df.index:\n",
    "            if not row.endswith('inflation_y'):  # Skip rows ending with '_inflation_y'\n",
    "                value = df.at[row, col]\n",
    "                if value < 0.05:  # Check if the value is less than 0.05\n",
    "                    result[col][row] = value  # Store the value\n",
    "\n",
    "# Print or manipulate the result as needed\n",
    "for col_key, row_values in result.items():\n",
    "    print(f\"{col_key}:\")\n",
    "    for row_key, value in row_values.items():\n",
    "        print(f\"  {row_key}: {value}\")"
   ]
  },
  {
   "cell_type": "code",
   "execution_count": 1,
   "id": "eaeb8a29",
   "metadata": {},
   "outputs": [
    {
     "name": "stdout",
     "output_type": "stream",
     "text": [
      "Results saved to Inflation_Results.xlsx\n"
     ]
    }
   ],
   "source": [
    "import pandas as pd\n",
    "\n",
    "# Load the Excel file into a pandas DataFrame\n",
    "df = pd.read_excel(\"Find_0.05_Values.xlsx\", index_col=0)  # Replace with your actual file path\n",
    "\n",
    "# Initialize dictionaries to store the results\n",
    "otherTopicsToInflation = {}\n",
    "inflationToOtherTopic = {}\n",
    "\n",
    "# Part 1: otherTopicsToInflation - Searching in rows ending with 'inflation_y' and columns starting from 'Rappler_economy_x'\n",
    "for row in df.index:\n",
    "    if row.endswith('inflation_y'):\n",
    "        otherTopicsToInflation[row] = {}  # Create an object for this row\n",
    "        \n",
    "        # Iterate through each column starting from 'Rappler_economy_x'\n",
    "        start_column = False\n",
    "        for col in df.columns:\n",
    "            if col == \"Rappler_economy_x\":  # Mark the starting column\n",
    "                start_column = True\n",
    "            \n",
    "            if start_column and not col.endswith(\"inflation_x\"):  # Exclude columns ending with 'inflation_x'\n",
    "                value = df.at[row, col]\n",
    "                if value < 0.05:\n",
    "                    otherTopicsToInflation[row][col] = value  # Store the value\n",
    "\n",
    "# Part 2: inflationToOtherTopic - Searching in columns ending with 'inflation_x' and rows that do NOT end with 'inflation_y'\n",
    "for col in df.columns:\n",
    "    if col.endswith('inflation_x'):\n",
    "        inflationToOtherTopic[col] = {}  # Create an object for this column\n",
    "        \n",
    "        # Iterate through each row that does not end with 'inflation_y'\n",
    "        for row in df.index:\n",
    "            if not row.endswith('inflation_y'):  # Skip rows ending with '_inflation_y'\n",
    "                value = df.at[row, col]\n",
    "                if value < 0.05:\n",
    "                    inflationToOtherTopic[col][row] = value  # Store the value\n",
    "\n",
    "# Convert dictionaries to DataFrames for export\n",
    "otherTopicsToInflation_df = pd.DataFrame.from_dict(otherTopicsToInflation, orient='index')\n",
    "inflationToOtherTopic_df = pd.DataFrame.from_dict(inflationToOtherTopic, orient='index')\n",
    "\n",
    "# Write the results to an Excel file with two sheets\n",
    "with pd.ExcelWriter(\"Inflation_Results.xlsx\") as writer:\n",
    "    otherTopicsToInflation_df.to_excel(writer, sheet_name='otherTopicsToInflation')\n",
    "    inflationToOtherTopic_df.to_excel(writer, sheet_name='inflationToOtherTopic')\n",
    "\n",
    "print(\"Results saved to Inflation_Results.xlsx\")\n"
   ]
  },
  {
   "cell_type": "code",
   "execution_count": null,
   "id": "332c7ad3",
   "metadata": {},
   "outputs": [],
   "source": []
  }
 ],
 "metadata": {
  "kernelspec": {
   "display_name": "Python 3 (ipykernel)",
   "language": "python",
   "name": "python3"
  },
  "language_info": {
   "codemirror_mode": {
    "name": "ipython",
    "version": 3
   },
   "file_extension": ".py",
   "mimetype": "text/x-python",
   "name": "python",
   "nbconvert_exporter": "python",
   "pygments_lexer": "ipython3",
   "version": "3.11.4"
  }
 },
 "nbformat": 4,
 "nbformat_minor": 5
}
